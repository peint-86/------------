{
 "cells": [
  {
   "cell_type": "code",
   "execution_count": 21,
   "id": "c2416a68-243e-4010-a7da-406ccc25d478",
   "metadata": {},
   "outputs": [
    {
     "data": {
      "text/plain": [
       "[5.5, 6, 8.0]"
      ]
     },
     "execution_count": 21,
     "metadata": {},
     "output_type": "execute_result"
    }
   ],
   "source": [
    "def avg_med_var(input_list):\n",
    "    mean_value=0\n",
    "    med_value=0\n",
    "    var_value=0\n",
    "    results=[]\n",
    "\n",
    "    input_list.sort()\n",
    "    mid_idx=len(input_list)//2\n",
    "    if mid_idx%2==0:\n",
    "        med_value=input_list[int(mid_idx)-1]\n",
    "    else:\n",
    "        med_value=input_list[int(mid_idx)]\n",
    "\n",
    "    mean_value = sum(input_list)/len(input_list)\n",
    "    mse_value=0\n",
    "    for i in range(len(input_list)):\n",
    "       mse_value=mse_value+(input_list[i]-mean_value)**2\n",
    "    var_value=mse_value//len(input_list)\n",
    "\n",
    "    results.append(mean_value)\n",
    "    results.append(med_value)\n",
    "    results.append(var_value)\n",
    "    return results\n",
    "\n",
    "avg_med_var([1,4,3,2,5,6,8,7,9,10])"
   ]
  }
 ],
 "metadata": {
  "kernelspec": {
   "display_name": "Python 3 (ipykernel)",
   "language": "python",
   "name": "python3"
  },
  "language_info": {
   "codemirror_mode": {
    "name": "ipython",
    "version": 3
   },
   "file_extension": ".py",
   "mimetype": "text/x-python",
   "name": "python",
   "nbconvert_exporter": "python",
   "pygments_lexer": "ipython3",
   "version": "3.11.7"
  }
 },
 "nbformat": 4,
 "nbformat_minor": 5
}
