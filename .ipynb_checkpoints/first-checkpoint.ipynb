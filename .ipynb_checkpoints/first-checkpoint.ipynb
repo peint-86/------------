{
 "cells": [
  {
   "cell_type": "code",
   "execution_count": 1,
   "id": "cec596b3",
   "metadata": {},
   "outputs": [
    {
     "data": {
      "text/plain": [
       "'hellohello'"
      ]
     },
     "execution_count": 1,
     "metadata": {},
     "output_type": "execute_result"
    }
   ],
   "source": [
    "'hello'+''+'hello'"
   ]
  },
  {
   "cell_type": "code",
   "execution_count": 2,
   "id": "cd25f298",
   "metadata": {},
   "outputs": [
    {
     "data": {
      "text/plain": [
       "'HelloHelloHelloHelloHello'"
      ]
     },
     "execution_count": 2,
     "metadata": {},
     "output_type": "execute_result"
    }
   ],
   "source": [
    "'Hello'*5"
   ]
  },
  {
   "cell_type": "code",
   "execution_count": 4,
   "id": "94947968",
   "metadata": {},
   "outputs": [
    {
     "ename": "TypeError",
     "evalue": "can only concatenate str (not \"int\") to str",
     "output_type": "error",
     "traceback": [
      "\u001b[1;31m---------------------------------------------------------------------------\u001b[0m",
      "\u001b[1;31mTypeError\u001b[0m                                 Traceback (most recent call last)",
      "Cell \u001b[1;32mIn[4], line 1\u001b[0m\n\u001b[1;32m----> 1\u001b[0m \u001b[38;5;124m'\u001b[39m\u001b[38;5;124mHello\u001b[39m\u001b[38;5;124m'\u001b[39m\u001b[38;5;241m+\u001b[39m\u001b[38;5;241m1\u001b[39m\n",
      "\u001b[1;31mTypeError\u001b[0m: can only concatenate str (not \"int\") to str"
     ]
    }
   ],
   "source": [
    "'Hello'+1"
   ]
  },
  {
   "cell_type": "code",
   "execution_count": 5,
   "id": "df052324",
   "metadata": {},
   "outputs": [
    {
     "data": {
      "text/plain": [
       "True"
      ]
     },
     "execution_count": 5,
     "metadata": {},
     "output_type": "execute_result"
    }
   ],
   "source": [
    "(0<1) and (1<2)"
   ]
  },
  {
   "cell_type": "code",
   "execution_count": 6,
   "id": "ffecc0ee",
   "metadata": {},
   "outputs": [
    {
     "data": {
      "text/plain": [
       "False"
      ]
     },
     "execution_count": 6,
     "metadata": {},
     "output_type": "execute_result"
    }
   ],
   "source": [
    "x = 1\n",
    "y = -1\n",
    "(x>0) and (y>0)"
   ]
  },
  {
   "cell_type": "code",
   "execution_count": 7,
   "id": "b45c93c2",
   "metadata": {},
   "outputs": [
    {
     "data": {
      "text/plain": [
       "True"
      ]
     },
     "execution_count": 7,
     "metadata": {},
     "output_type": "execute_result"
    }
   ],
   "source": [
    "x=1\n",
    "y=-1\n",
    "(x ==1) or (y==1)"
   ]
  },
  {
   "cell_type": "code",
   "execution_count": 8,
   "id": "deef0cc8",
   "metadata": {},
   "outputs": [
    {
     "data": {
      "text/plain": [
       "True"
      ]
     },
     "execution_count": 8,
     "metadata": {},
     "output_type": "execute_result"
    }
   ],
   "source": [
    "x = 1\n",
    "y = -1\n",
    "x+y==0 and not x-y< 0 and (x >0 or y > 0)"
   ]
  },
  {
   "cell_type": "code",
   "execution_count": 10,
   "id": "5104eb4c",
   "metadata": {},
   "outputs": [
    {
     "name": "stdout",
     "output_type": "stream",
     "text": [
      "positive\n"
     ]
    }
   ],
   "source": [
    "x=1\n",
    "if x >= 0:\n",
    " if x == 0: # 第1ブロック開始\n",
    "   print('0') # 第2ブロック開始\n",
    " else: # 第2ブロック終了\n",
    "   print('positive') #第3ブロック開始"
   ]
  },
  {
   "cell_type": "code",
   "execution_count": 11,
   "id": "238a3a2f",
   "metadata": {},
   "outputs": [
    {
     "name": "stdout",
     "output_type": "stream",
     "text": [
      "['Science', 'Human']\n",
      "['Human']\n"
     ]
    }
   ],
   "source": [
    "ut_dep=['理','文']\n",
    "ut_dep[0]='Science'\n",
    "ut_dep[1]='Human'\n",
    "print(ut_dep)\n",
    "del ut_dep[0]\n",
    "print(ut_dep)"
   ]
  },
  {
   "cell_type": "code",
   "execution_count": 12,
   "id": "26441c6d",
   "metadata": {},
   "outputs": [
    {
     "name": "stdout",
     "output_type": "stream",
     "text": [
      "Hello, Bonjour, Guten Tag\n"
     ]
    }
   ],
   "source": [
    "def hello(en, fr, de):\n",
    " print(en, fr, de, sep=', ')\n",
    "hello(\"Hello\", de=\"Guten Tag\", fr=\"Bonjour\")"
   ]
  },
  {
   "cell_type": "code",
   "execution_count": 13,
   "id": "53423898",
   "metadata": {},
   "outputs": [
    {
     "name": "stdout",
     "output_type": "stream",
     "text": [
      "理1\n",
      "理2\n"
     ]
    }
   ],
   "source": [
    "ut_dep=['理1','理2','理3','文1','文2','文3']\n",
    "# リストの先頭要素を出力\n",
    "print(ut_dep[0])\n",
    "# リストの2番目の要素を出力\n",
    "print(ut_dep[1])"
   ]
  },
  {
   "cell_type": "code",
   "execution_count": 14,
   "id": "ca4548f2",
   "metadata": {},
   "outputs": [
    {
     "name": "stdout",
     "output_type": "stream",
     "text": [
      "文科:文1,文2,文3\n"
     ]
    }
   ],
   "source": [
    "print('文科:'+ut_dep[3]+\",\"+ut_dep[4]+\",\"+ut_dep[5])"
   ]
  },
  {
   "cell_type": "code",
   "execution_count": 15,
   "id": "51ead5ab",
   "metadata": {},
   "outputs": [
    {
     "name": "stdout",
     "output_type": "stream",
     "text": [
      "['Science', 'Human']\n",
      "['Human']\n"
     ]
    }
   ],
   "source": [
    "ut_dep=['理','文']\n",
    "ut_dep[0]='Science'\n",
    "ut_dep[1]='Human'\n",
    "print(ut_dep)\n",
    "del ut_dep[0]\n",
    "print(ut_dep)\n"
   ]
  },
  {
   "cell_type": "code",
   "execution_count": 16,
   "id": "5268dcd1",
   "metadata": {},
   "outputs": [
    {
     "name": "stdout",
     "output_type": "stream",
     "text": [
      "['理1', '理2', '理3']\n",
      "['文1', '文2', '文3']\n"
     ]
    }
   ],
   "source": [
    "ut_dep=['理1','理2','理3','文1','文2','文3']\n",
    "# リストの先頭から3番目までの要素\n",
    "ut_science = ut_dep[0:3]\n",
    "#リストの4番目から6番目までの要素\n",
    "ut_human = ut_dep[3:6]\n",
    "print(ut_science)\n",
    "print(ut_human)"
   ]
  },
  {
   "cell_type": "code",
   "execution_count": 17,
   "id": "96152a67",
   "metadata": {},
   "outputs": [
    {
     "data": {
      "text/plain": [
       "True"
      ]
     },
     "execution_count": 17,
     "metadata": {},
     "output_type": "execute_result"
    }
   ],
   "source": [
    "ut_dep=['理1','理2','理3','文1','文2','文3']\n",
    "'理1' in ut_dep\n"
   ]
  },
  {
   "cell_type": "code",
   "execution_count": 18,
   "id": "f3584e05",
   "metadata": {},
   "outputs": [
    {
     "data": {
      "text/plain": [
       "1"
      ]
     },
     "execution_count": 18,
     "metadata": {},
     "output_type": "execute_result"
    }
   ],
   "source": [
    "ut_dep=['理1','理2','理3','文1','文2','文3']\n",
    "ut_dep.index('理2')"
   ]
  },
  {
   "cell_type": "code",
   "execution_count": 19,
   "id": "fe1f544b",
   "metadata": {},
   "outputs": [
    {
     "name": "stdout",
     "output_type": "stream",
     "text": [
      "['理2', '理3', '文1', '文2', '文3']\n",
      "['理1', '理2', '理3', '文1', '文2', '文3']\n"
     ]
    }
   ],
   "source": [
    "ut_dep=['理2','理3','文1','文2']\n",
    "# リストの末尾に要素を追加\n",
    "ut_dep.append('文3')\n",
    "print(ut_dep)\n",
    "# リストの先頭に要素を追加\n",
    "ut_dep.insert(0,'理1')\n",
    "print(ut_dep)"
   ]
  },
  {
   "cell_type": "code",
   "execution_count": 20,
   "id": "4f595e8c",
   "metadata": {},
   "outputs": [
    {
     "name": "stdout",
     "output_type": "stream",
     "text": [
      "['理1', '理2', '理3', '文2', '文3']\n"
     ]
    }
   ],
   "source": [
    "ut_dep=['理1','理2','理3','文1','文2','文3']\n",
    "ut_dep.remove('文1')\n",
    "print(ut_dep)"
   ]
  },
  {
   "cell_type": "code",
   "execution_count": 21,
   "id": "d616afcf",
   "metadata": {},
   "outputs": [
    {
     "name": "stdout",
     "output_type": "stream",
     "text": [
      "文1\n",
      "['理1', '理2', '理3', '文2', '文3']\n"
     ]
    }
   ],
   "source": [
    "ut_dep=['理1','理2','理3','文1','文2','文3']\n",
    "print(ut_dep.pop(3))\n",
    "print(ut_dep)"
   ]
  },
  {
   "cell_type": "code",
   "execution_count": 22,
   "id": "1b8dbc82",
   "metadata": {},
   "outputs": [
    {
     "name": "stdout",
     "output_type": "stream",
     "text": [
      "d\n",
      "g\n",
      "data\n",
      "mining\n",
      "d\n",
      "a\n",
      "t\n",
      "a\n",
      "m\n",
      "i\n",
      "n\n",
      "i\n",
      "n\n",
      "g\n",
      "0 d\n",
      "1 a\n",
      "2 t\n",
      "3 a\n",
      "4 m\n",
      "5 i\n",
      "6 n\n",
      "7 i\n",
      "8 n\n",
      "9 g\n",
      "True\n"
     ]
    }
   ],
   "source": [
    "course = 'datamining'\n",
    "print(course[0])\n",
    "print(course[-1])\n",
    "print(course[:4])\n",
    "print(course[4:])\n",
    "for i in course:\n",
    " print(i)\n",
    "for i in range(len(course)):\n",
    " print(i,course[i])\n",
    "print('data' in course)"
   ]
  },
  {
   "cell_type": "code",
   "execution_count": 23,
   "id": "df551558",
   "metadata": {},
   "outputs": [
    {
     "name": "stdout",
     "output_type": "stream",
     "text": [
      "THE UNIVERSITY OF TOKYO\n",
      "The University of Tokyo\n",
      "the university of tokyo\n"
     ]
    }
   ],
   "source": [
    "ut = 'The University of Tokyo'\n",
    "print(ut.upper())\n",
    "print(ut)\n",
    "ut = ut.lower()\n",
    "print(ut)"
   ]
  },
  {
   "cell_type": "code",
   "execution_count": null,
   "id": "f36d1612",
   "metadata": {},
   "outputs": [],
   "source": []
  }
 ],
 "metadata": {
  "kernelspec": {
   "display_name": "Python 3 (ipykernel)",
   "language": "python",
   "name": "python3"
  },
  "language_info": {
   "codemirror_mode": {
    "name": "ipython",
    "version": 3
   },
   "file_extension": ".py",
   "mimetype": "text/x-python",
   "name": "python",
   "nbconvert_exporter": "python",
   "pygments_lexer": "ipython3",
   "version": "3.11.4"
  }
 },
 "nbformat": 4,
 "nbformat_minor": 5
}
