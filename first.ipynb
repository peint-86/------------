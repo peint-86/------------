{
 "cells": [
  {
   "cell_type": "code",
   "execution_count": 1,
   "id": "cec596b3",
   "metadata": {},
   "outputs": [
    {
     "data": {
      "text/plain": [
       "'hellohello'"
      ]
     },
     "execution_count": 1,
     "metadata": {},
     "output_type": "execute_result"
    }
   ],
   "source": [
    "'hello'+''+'hello'"
   ]
  },
  {
   "cell_type": "code",
   "execution_count": 2,
   "id": "cd25f298",
   "metadata": {},
   "outputs": [
    {
     "data": {
      "text/plain": [
       "'HelloHelloHelloHelloHello'"
      ]
     },
     "execution_count": 2,
     "metadata": {},
     "output_type": "execute_result"
    }
   ],
   "source": [
    "'Hello'*5"
   ]
  },
  {
   "cell_type": "code",
   "execution_count": 4,
   "id": "94947968",
   "metadata": {},
   "outputs": [
    {
     "ename": "TypeError",
     "evalue": "can only concatenate str (not \"int\") to str",
     "output_type": "error",
     "traceback": [
      "\u001b[1;31m---------------------------------------------------------------------------\u001b[0m",
      "\u001b[1;31mTypeError\u001b[0m                                 Traceback (most recent call last)",
      "Cell \u001b[1;32mIn[4], line 1\u001b[0m\n\u001b[1;32m----> 1\u001b[0m \u001b[38;5;124m'\u001b[39m\u001b[38;5;124mHello\u001b[39m\u001b[38;5;124m'\u001b[39m\u001b[38;5;241m+\u001b[39m\u001b[38;5;241m1\u001b[39m\n",
      "\u001b[1;31mTypeError\u001b[0m: can only concatenate str (not \"int\") to str"
     ]
    }
   ],
   "source": [
    "'Hello'+1"
   ]
  },
  {
   "cell_type": "code",
   "execution_count": 5,
   "id": "df052324",
   "metadata": {},
   "outputs": [
    {
     "data": {
      "text/plain": [
       "True"
      ]
     },
     "execution_count": 5,
     "metadata": {},
     "output_type": "execute_result"
    }
   ],
   "source": [
    "(0<1) and (1<2)"
   ]
  },
  {
   "cell_type": "code",
   "execution_count": 6,
   "id": "ffecc0ee",
   "metadata": {},
   "outputs": [
    {
     "data": {
      "text/plain": [
       "False"
      ]
     },
     "execution_count": 6,
     "metadata": {},
     "output_type": "execute_result"
    }
   ],
   "source": [
    "x = 1\n",
    "y = -1\n",
    "(x>0) and (y>0)"
   ]
  },
  {
   "cell_type": "code",
   "execution_count": 7,
   "id": "b45c93c2",
   "metadata": {},
   "outputs": [
    {
     "data": {
      "text/plain": [
       "True"
      ]
     },
     "execution_count": 7,
     "metadata": {},
     "output_type": "execute_result"
    }
   ],
   "source": [
    "x=1\n",
    "y=-1\n",
    "(x ==1) or (y==1)"
   ]
  },
  {
   "cell_type": "code",
   "execution_count": 8,
   "id": "deef0cc8",
   "metadata": {},
   "outputs": [
    {
     "data": {
      "text/plain": [
       "True"
      ]
     },
     "execution_count": 8,
     "metadata": {},
     "output_type": "execute_result"
    }
   ],
   "source": [
    "x = 1\n",
    "y = -1\n",
    "x+y==0 and not x-y< 0 and (x >0 or y > 0)"
   ]
  },
  {
   "cell_type": "code",
   "execution_count": 10,
   "id": "5104eb4c",
   "metadata": {},
   "outputs": [
    {
     "name": "stdout",
     "output_type": "stream",
     "text": [
      "positive\n"
     ]
    }
   ],
   "source": [
    "x=1\n",
    "if x >= 0:\n",
    " if x == 0: # 第1ブロック開始\n",
    "   print('0') # 第2ブロック開始\n",
    " else: # 第2ブロック終了\n",
    "   print('positive') #第3ブロック開始"
   ]
  },
  {
   "cell_type": "code",
   "execution_count": 11,
   "id": "238a3a2f",
   "metadata": {},
   "outputs": [
    {
     "name": "stdout",
     "output_type": "stream",
     "text": [
      "['Science', 'Human']\n",
      "['Human']\n"
     ]
    }
   ],
   "source": [
    "ut_dep=['理','文']\n",
    "ut_dep[0]='Science'\n",
    "ut_dep[1]='Human'\n",
    "print(ut_dep)\n",
    "del ut_dep[0]\n",
    "print(ut_dep)"
   ]
  },
  {
   "cell_type": "code",
   "execution_count": 12,
   "id": "26441c6d",
   "metadata": {},
   "outputs": [
    {
     "name": "stdout",
     "output_type": "stream",
     "text": [
      "Hello, Bonjour, Guten Tag\n"
     ]
    }
   ],
   "source": [
    "def hello(en, fr, de):\n",
    " print(en, fr, de, sep=', ')\n",
    "hello(\"Hello\", de=\"Guten Tag\", fr=\"Bonjour\")"
   ]
  },
  {
   "cell_type": "code",
   "execution_count": 13,
   "id": "53423898",
   "metadata": {},
   "outputs": [
    {
     "name": "stdout",
     "output_type": "stream",
     "text": [
      "理1\n",
      "理2\n"
     ]
    }
   ],
   "source": [
    "ut_dep=['理1','理2','理3','文1','文2','文3']\n",
    "# リストの先頭要素を出力\n",
    "print(ut_dep[0])\n",
    "# リストの2番目の要素を出力\n",
    "print(ut_dep[1])"
   ]
  },
  {
   "cell_type": "code",
   "execution_count": 14,
   "id": "ca4548f2",
   "metadata": {},
   "outputs": [
    {
     "name": "stdout",
     "output_type": "stream",
     "text": [
      "文科:文1,文2,文3\n"
     ]
    }
   ],
   "source": [
    "print('文科:'+ut_dep[3]+\",\"+ut_dep[4]+\",\"+ut_dep[5])"
   ]
  },
  {
   "cell_type": "code",
   "execution_count": 15,
   "id": "51ead5ab",
   "metadata": {},
   "outputs": [
    {
     "name": "stdout",
     "output_type": "stream",
     "text": [
      "['Science', 'Human']\n",
      "['Human']\n"
     ]
    }
   ],
   "source": [
    "ut_dep=['理','文']\n",
    "ut_dep[0]='Science'\n",
    "ut_dep[1]='Human'\n",
    "print(ut_dep)\n",
    "del ut_dep[0]\n",
    "print(ut_dep)\n"
   ]
  },
  {
   "cell_type": "code",
   "execution_count": 16,
   "id": "5268dcd1",
   "metadata": {},
   "outputs": [
    {
     "name": "stdout",
     "output_type": "stream",
     "text": [
      "['理1', '理2', '理3']\n",
      "['文1', '文2', '文3']\n"
     ]
    }
   ],
   "source": [
    "ut_dep=['理1','理2','理3','文1','文2','文3']\n",
    "# リストの先頭から3番目までの要素\n",
    "ut_science = ut_dep[0:3]\n",
    "#リストの4番目から6番目までの要素\n",
    "ut_human = ut_dep[3:6]\n",
    "print(ut_science)\n",
    "print(ut_human)"
   ]
  },
  {
   "cell_type": "code",
   "execution_count": 17,
   "id": "96152a67",
   "metadata": {},
   "outputs": [
    {
     "data": {
      "text/plain": [
       "True"
      ]
     },
     "execution_count": 17,
     "metadata": {},
     "output_type": "execute_result"
    }
   ],
   "source": [
    "ut_dep=['理1','理2','理3','文1','文2','文3']\n",
    "'理1' in ut_dep\n"
   ]
  },
  {
   "cell_type": "code",
   "execution_count": 18,
   "id": "f3584e05",
   "metadata": {},
   "outputs": [
    {
     "data": {
      "text/plain": [
       "1"
      ]
     },
     "execution_count": 18,
     "metadata": {},
     "output_type": "execute_result"
    }
   ],
   "source": [
    "ut_dep=['理1','理2','理3','文1','文2','文3']\n",
    "ut_dep.index('理2')"
   ]
  },
  {
   "cell_type": "code",
   "execution_count": 19,
   "id": "fe1f544b",
   "metadata": {},
   "outputs": [
    {
     "name": "stdout",
     "output_type": "stream",
     "text": [
      "['理2', '理3', '文1', '文2', '文3']\n",
      "['理1', '理2', '理3', '文1', '文2', '文3']\n"
     ]
    }
   ],
   "source": [
    "ut_dep=['理2','理3','文1','文2']\n",
    "# リストの末尾に要素を追加\n",
    "ut_dep.append('文3')\n",
    "print(ut_dep)\n",
    "# リストの先頭に要素を追加\n",
    "ut_dep.insert(0,'理1')\n",
    "print(ut_dep)"
   ]
  },
  {
   "cell_type": "code",
   "execution_count": 20,
   "id": "4f595e8c",
   "metadata": {},
   "outputs": [
    {
     "name": "stdout",
     "output_type": "stream",
     "text": [
      "['理1', '理2', '理3', '文2', '文3']\n"
     ]
    }
   ],
   "source": [
    "ut_dep=['理1','理2','理3','文1','文2','文3']\n",
    "ut_dep.remove('文1')\n",
    "print(ut_dep)"
   ]
  },
  {
   "cell_type": "code",
   "execution_count": 21,
   "id": "d616afcf",
   "metadata": {},
   "outputs": [
    {
     "name": "stdout",
     "output_type": "stream",
     "text": [
      "文1\n",
      "['理1', '理2', '理3', '文2', '文3']\n"
     ]
    }
   ],
   "source": [
    "ut_dep=['理1','理2','理3','文1','文2','文3']\n",
    "print(ut_dep.pop(3))\n",
    "print(ut_dep)"
   ]
  },
  {
   "cell_type": "code",
   "execution_count": 22,
   "id": "1b8dbc82",
   "metadata": {},
   "outputs": [
    {
     "name": "stdout",
     "output_type": "stream",
     "text": [
      "d\n",
      "g\n",
      "data\n",
      "mining\n",
      "d\n",
      "a\n",
      "t\n",
      "a\n",
      "m\n",
      "i\n",
      "n\n",
      "i\n",
      "n\n",
      "g\n",
      "0 d\n",
      "1 a\n",
      "2 t\n",
      "3 a\n",
      "4 m\n",
      "5 i\n",
      "6 n\n",
      "7 i\n",
      "8 n\n",
      "9 g\n",
      "True\n"
     ]
    }
   ],
   "source": [
    "course = 'datamining'\n",
    "print(course[0])\n",
    "print(course[-1])\n",
    "print(course[:4])\n",
    "print(course[4:])\n",
    "for i in course:\n",
    " print(i)\n",
    "for i in range(len(course)):\n",
    " print(i,course[i])\n",
    "print('data' in course)"
   ]
  },
  {
   "cell_type": "code",
   "execution_count": 23,
   "id": "df551558",
   "metadata": {},
   "outputs": [
    {
     "name": "stdout",
     "output_type": "stream",
     "text": [
      "THE UNIVERSITY OF TOKYO\n",
      "The University of Tokyo\n",
      "the university of tokyo\n"
     ]
    }
   ],
   "source": [
    "ut = 'The University of Tokyo'\n",
    "print(ut.upper())\n",
    "print(ut)\n",
    "ut = ut.lower()\n",
    "print(ut)"
   ]
  },
  {
   "cell_type": "code",
   "execution_count": 1,
   "id": "f36d1612",
   "metadata": {},
   "outputs": [
    {
     "name": "stdout",
     "output_type": "stream",
     "text": [
      "2.0\n"
     ]
    }
   ],
   "source": [
    "import math\n",
    "print(math.sqrt(4))"
   ]
  },
  {
   "cell_type": "code",
   "execution_count": 2,
   "id": "9c862e97-3179-4931-b9b0-ac289e4a9e62",
   "metadata": {},
   "outputs": [
    {
     "name": "stdout",
     "output_type": "stream",
     "text": [
      "3.1622776601683795\n"
     ]
    }
   ],
   "source": [
    "from math import*\n",
    "print(sqrt(10))\n"
   ]
  },
  {
   "cell_type": "code",
   "execution_count": 3,
   "id": "acd3b531-7108-4d10-b442-73a169e49099",
   "metadata": {},
   "outputs": [
    {
     "name": "stdout",
     "output_type": "stream",
     "text": [
      "3628800\n"
     ]
    }
   ],
   "source": [
    "import math\n",
    "print(math.factorial(10))\n"
   ]
  },
  {
   "cell_type": "code",
   "execution_count": 4,
   "id": "6a55ab6b-50e3-4d92-b136-4673c9693949",
   "metadata": {},
   "outputs": [
    {
     "ename": "FileNotFoundError",
     "evalue": "[Errno 2] No such file or directory: 'simole_score.csv'",
     "output_type": "error",
     "traceback": [
      "\u001b[1;31m---------------------------------------------------------------------------\u001b[0m",
      "\u001b[1;31mFileNotFoundError\u001b[0m                         Traceback (most recent call last)",
      "Cell \u001b[1;32mIn[4], line 2\u001b[0m\n\u001b[0;32m      1\u001b[0m \u001b[38;5;28;01mimport\u001b[39;00m \u001b[38;5;21;01mcsv\u001b[39;00m\n\u001b[1;32m----> 2\u001b[0m sore\u001b[38;5;241m=\u001b[39m\u001b[38;5;28mopen\u001b[39m(\u001b[38;5;124m'\u001b[39m\u001b[38;5;124msimole_score.csv\u001b[39m\u001b[38;5;124m'\u001b[39m)\n\u001b[0;32m      3\u001b[0m sore_reader\u001b[38;5;241m=\u001b[39mcsv\u001b[38;5;241m.\u001b[39mreader(score)\n\u001b[0;32m      4\u001b[0m score_data\u001b[38;5;241m=\u001b[39m\u001b[38;5;28mlist\u001b[39m(score_reader)\n",
      "File \u001b[1;32m~\\anaconda3\\anaconda3_2\\Lib\\site-packages\\IPython\\core\\interactiveshell.py:310\u001b[0m, in \u001b[0;36m_modified_open\u001b[1;34m(file, *args, **kwargs)\u001b[0m\n\u001b[0;32m    303\u001b[0m \u001b[38;5;28;01mif\u001b[39;00m file \u001b[38;5;129;01min\u001b[39;00m {\u001b[38;5;241m0\u001b[39m, \u001b[38;5;241m1\u001b[39m, \u001b[38;5;241m2\u001b[39m}:\n\u001b[0;32m    304\u001b[0m     \u001b[38;5;28;01mraise\u001b[39;00m \u001b[38;5;167;01mValueError\u001b[39;00m(\n\u001b[0;32m    305\u001b[0m         \u001b[38;5;124mf\u001b[39m\u001b[38;5;124m\"\u001b[39m\u001b[38;5;124mIPython won\u001b[39m\u001b[38;5;124m'\u001b[39m\u001b[38;5;124mt let you open fd=\u001b[39m\u001b[38;5;132;01m{\u001b[39;00mfile\u001b[38;5;132;01m}\u001b[39;00m\u001b[38;5;124m by default \u001b[39m\u001b[38;5;124m\"\u001b[39m\n\u001b[0;32m    306\u001b[0m         \u001b[38;5;124m\"\u001b[39m\u001b[38;5;124mas it is likely to crash IPython. If you know what you are doing, \u001b[39m\u001b[38;5;124m\"\u001b[39m\n\u001b[0;32m    307\u001b[0m         \u001b[38;5;124m\"\u001b[39m\u001b[38;5;124myou can use builtins\u001b[39m\u001b[38;5;124m'\u001b[39m\u001b[38;5;124m open.\u001b[39m\u001b[38;5;124m\"\u001b[39m\n\u001b[0;32m    308\u001b[0m     )\n\u001b[1;32m--> 310\u001b[0m \u001b[38;5;28;01mreturn\u001b[39;00m io_open(file, \u001b[38;5;241m*\u001b[39margs, \u001b[38;5;241m*\u001b[39m\u001b[38;5;241m*\u001b[39mkwargs)\n",
      "\u001b[1;31mFileNotFoundError\u001b[0m: [Errno 2] No such file or directory: 'simole_score.csv'"
     ]
    }
   ],
   "source": [
    "import csv\n",
    "sore=open('simole_score.csv')\n",
    "sore_reader=csv.reader(score)\n",
    "score_data=list(score_reader)\n",
    "print(score_data)"
   ]
  },
  {
   "cell_type": "code",
   "execution_count": 10,
   "id": "e5626ebb-e7fb-4b29-acee-8f611d4fecdc",
   "metadata": {},
   "outputs": [
    {
     "data": {
      "text/plain": [
       "[52.8, 95, 29]"
      ]
     },
     "execution_count": 10,
     "metadata": {},
     "output_type": "execute_result"
    }
   ],
   "source": [
    "def avg_max_min(input_list):\n",
    "    avg_value=0\n",
    "    max_value=-1\n",
    "    min_value=101\n",
    "    sum_value=0\n",
    "    results=[]\n",
    "    for v in range(len(input_list)):\n",
    "        sum_value=sum_value+int(input_list[v])\n",
    "        if int(input_list[v])>max_value:\n",
    "            max_value=int(input_list[v])\n",
    "        if int(input_list[v])<min_value:\n",
    "            min_value=int(input_list[v])\n",
    "    avg_value=sum_value/len(input_list)\n",
    "    results.append(avg_value)\n",
    "    results.append(max_value)\n",
    "    results.append(min_value)\n",
    "    return results\n",
    "avg_max_min([30,39,29,95,70,67,29,56,45,68])"
   ]
  },
  {
   "cell_type": "code",
   "execution_count": 2,
   "id": "503b8a74-56d6-4dda-9c61-637b53a778f6",
   "metadata": {},
   "outputs": [
    {
     "ename": "NameError",
     "evalue": "name 'avg_max_min' is not defined",
     "output_type": "error",
     "traceback": [
      "\u001b[1;31m---------------------------------------------------------------------------\u001b[0m",
      "\u001b[1;31mNameError\u001b[0m                                 Traceback (most recent call last)",
      "Cell \u001b[1;32mIn[2], line 1\u001b[0m\n\u001b[1;32m----> 1\u001b[0m avg_max_min([\u001b[38;5;241m30\u001b[39m,\u001b[38;5;241m39\u001b[39m,\u001b[38;5;241m29\u001b[39m,\u001b[38;5;241m95\u001b[39m,\u001b[38;5;241m70\u001b[39m,\u001b[38;5;241m67\u001b[39m,\u001b[38;5;241m29\u001b[39m,\u001b[38;5;241m56\u001b[39m,\u001b[38;5;241m45\u001b[39m,\u001b[38;5;241m68\u001b[39m])\n",
      "\u001b[1;31mNameError\u001b[0m: name 'avg_max_min' is not defined"
     ]
    }
   ],
   "source": [
    "\n"
   ]
  },
  {
   "cell_type": "code",
   "execution_count": 6,
   "id": "4e60de92-49a0-4def-a6b2-e37791455913",
   "metadata": {},
   "outputs": [
    {
     "name": "stdout",
     "output_type": "stream",
     "text": [
      "<_io.TextIOWrapper name='simple_score.csv' mode='rt' encoding='utf-8'>\n"
     ]
    }
   ],
   "source": [
    "import csv\n",
    "f=open(\"simple_score.csv\",\"rt\", encoding=\"utf-8\")\n"
   ]
  },
  {
   "cell_type": "code",
   "execution_count": null,
   "id": "43971f50-aa9d-4ba7-a844-da07718f3d38",
   "metadata": {},
   "outputs": [],
   "source": []
  },
  {
   "cell_type": "code",
   "execution_count": null,
   "id": "def7b41e-7a0f-4b04-928d-a64beb5c918e",
   "metadata": {},
   "outputs": [],
   "source": []
  },
  {
   "cell_type": "code",
   "execution_count": null,
   "id": "80332f8a-05b0-447b-a5d7-186abc96d252",
   "metadata": {},
   "outputs": [],
   "source": []
  },
  {
   "cell_type": "code",
   "execution_count": null,
   "id": "795051b4-5240-4867-bc9a-beb375663d7f",
   "metadata": {},
   "outputs": [],
   "source": []
  },
  {
   "cell_type": "code",
   "execution_count": null,
   "id": "bdd485ba-7f03-4435-b65e-ac7931081894",
   "metadata": {},
   "outputs": [],
   "source": []
  },
  {
   "cell_type": "code",
   "execution_count": null,
   "id": "699cc890-0329-4829-960e-ee47e28e8462",
   "metadata": {},
   "outputs": [],
   "source": []
  },
  {
   "cell_type": "code",
   "execution_count": null,
   "id": "7fab332d-fe88-4977-892c-9abee9aeaf11",
   "metadata": {},
   "outputs": [],
   "source": []
  },
  {
   "cell_type": "code",
   "execution_count": null,
   "id": "a1910c26-ba00-4326-9277-09f43fb21b02",
   "metadata": {},
   "outputs": [],
   "source": []
  },
  {
   "cell_type": "code",
   "execution_count": null,
   "id": "6d183e60-29fc-4e3f-9f3b-588b2f0d91c6",
   "metadata": {},
   "outputs": [],
   "source": []
  },
  {
   "cell_type": "code",
   "execution_count": null,
   "id": "a6358918-6420-4123-aff0-e9cf5320d02c",
   "metadata": {},
   "outputs": [],
   "source": []
  },
  {
   "cell_type": "code",
   "execution_count": null,
   "id": "d77fde40-2d2b-40fe-b44c-e549a9eff51b",
   "metadata": {},
   "outputs": [],
   "source": []
  },
  {
   "cell_type": "code",
   "execution_count": null,
   "id": "ae38bc67-f702-4fe3-8874-aaaca1faff5f",
   "metadata": {},
   "outputs": [],
   "source": []
  },
  {
   "cell_type": "code",
   "execution_count": null,
   "id": "d644a82a-0777-456a-b67d-8e9a96e27b9b",
   "metadata": {},
   "outputs": [],
   "source": []
  }
 ],
 "metadata": {
  "kernelspec": {
   "display_name": "Python 3 (ipykernel)",
   "language": "python",
   "name": "python3"
  },
  "language_info": {
   "codemirror_mode": {
    "name": "ipython",
    "version": 3
   },
   "file_extension": ".py",
   "mimetype": "text/x-python",
   "name": "python",
   "nbconvert_exporter": "python",
   "pygments_lexer": "ipython3",
   "version": "3.11.7"
  }
 },
 "nbformat": 4,
 "nbformat_minor": 5
}
