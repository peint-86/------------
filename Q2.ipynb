{
 "cells": [
  {
   "cell_type": "code",
   "execution_count": 61,
   "id": "c873b86c-2d24-4632-b9e0-d5a14df053fe",
   "metadata": {},
   "outputs": [
    {
     "data": {
      "text/plain": [
       "46"
      ]
     },
     "execution_count": 61,
     "metadata": {},
     "output_type": "execute_result"
    }
   ],
   "source": [
    "import pandas as pd\n",
    "df=pd.read_csv(\"user_score.csv\")\n",
    "len(df[(df[\"kokugo\"]>df[\"kokugo\"].mean()) & (df[\"shakai\"]>df[\"shakai\"].mean()) & (df[\"rika\"]>df[\"rika\"].mean()) & (df[\"sugaku\"]>df[\"sugaku\"].mean())])\n",
    "#df[(df['kokugo'] > 50) & (df['rika'] > 50)]"
   ]
  },
  {
   "cell_type": "code",
   "execution_count": 98,
   "id": "b7f62d66-6832-47af-b05d-7f8ab6b3cb5f",
   "metadata": {},
   "outputs": [
    {
     "data": {
      "text/html": [
       "<div>\n",
       "<style scoped>\n",
       "    .dataframe tbody tr th:only-of-type {\n",
       "        vertical-align: middle;\n",
       "    }\n",
       "\n",
       "    .dataframe tbody tr th {\n",
       "        vertical-align: top;\n",
       "    }\n",
       "\n",
       "    .dataframe thead th {\n",
       "        text-align: right;\n",
       "    }\n",
       "</style>\n",
       "<table border=\"1\" class=\"dataframe\">\n",
       "  <thead>\n",
       "    <tr style=\"text-align: right;\">\n",
       "      <th></th>\n",
       "      <th>user</th>\n",
       "      <th>kokugo</th>\n",
       "      <th>shakai</th>\n",
       "      <th>sugaku</th>\n",
       "      <th>rika</th>\n",
       "      <th>sum</th>\n",
       "    </tr>\n",
       "  </thead>\n",
       "  <tbody>\n",
       "    <tr>\n",
       "      <th>0</th>\n",
       "      <td>2</td>\n",
       "      <td>30</td>\n",
       "      <td>43</td>\n",
       "      <td>51</td>\n",
       "      <td>63</td>\n",
       "      <td>187</td>\n",
       "    </tr>\n",
       "    <tr>\n",
       "      <th>1</th>\n",
       "      <td>3</td>\n",
       "      <td>39</td>\n",
       "      <td>21</td>\n",
       "      <td>49</td>\n",
       "      <td>56</td>\n",
       "      <td>165</td>\n",
       "    </tr>\n",
       "    <tr>\n",
       "      <th>2</th>\n",
       "      <td>4</td>\n",
       "      <td>29</td>\n",
       "      <td>30</td>\n",
       "      <td>23</td>\n",
       "      <td>57</td>\n",
       "      <td>139</td>\n",
       "    </tr>\n",
       "    <tr>\n",
       "      <th>3</th>\n",
       "      <td>5</td>\n",
       "      <td>95</td>\n",
       "      <td>87</td>\n",
       "      <td>77</td>\n",
       "      <td>100</td>\n",
       "      <td>359</td>\n",
       "    </tr>\n",
       "    <tr>\n",
       "      <th>4</th>\n",
       "      <td>6</td>\n",
       "      <td>70</td>\n",
       "      <td>71</td>\n",
       "      <td>78</td>\n",
       "      <td>67</td>\n",
       "      <td>286</td>\n",
       "    </tr>\n",
       "  </tbody>\n",
       "</table>\n",
       "</div>"
      ],
      "text/plain": [
       "   user  kokugo  shakai  sugaku  rika  sum\n",
       "0     2      30      43      51    63  187\n",
       "1     3      39      21      49    56  165\n",
       "2     4      29      30      23    57  139\n",
       "3     5      95      87      77   100  359\n",
       "4     6      70      71      78    67  286"
      ]
     },
     "execution_count": 98,
     "metadata": {},
     "output_type": "execute_result"
    }
   ],
   "source": [
    "import pandas as pd\n",
    "df=pd.read_csv(\"user_score.csv\")\n",
    "def score_sum(df):\n",
    "    df['sum']=df[([\"kokugo\",\"rika\",\"sugaku\",\"shakai\"])].sum(axis=1)\n",
    "    return df\n",
    "score=score_sum(df)\n",
    "score.head(5)"
   ]
  },
  {
   "cell_type": "code",
   "execution_count": 101,
   "id": "b198474f-8493-4d1e-82bb-10cf9accb7eb",
   "metadata": {},
   "outputs": [
    {
     "data": {
      "text/html": [
       "<div>\n",
       "<style scoped>\n",
       "    .dataframe tbody tr th:only-of-type {\n",
       "        vertical-align: middle;\n",
       "    }\n",
       "\n",
       "    .dataframe tbody tr th {\n",
       "        vertical-align: top;\n",
       "    }\n",
       "\n",
       "    .dataframe thead th {\n",
       "        text-align: right;\n",
       "    }\n",
       "</style>\n",
       "<table border=\"1\" class=\"dataframe\">\n",
       "  <thead>\n",
       "    <tr style=\"text-align: right;\">\n",
       "      <th></th>\n",
       "      <th>user</th>\n",
       "      <th>kokugo</th>\n",
       "      <th>shakai</th>\n",
       "      <th>sugaku</th>\n",
       "      <th>rika</th>\n",
       "      <th>sum</th>\n",
       "    </tr>\n",
       "  </thead>\n",
       "  <tbody>\n",
       "    <tr>\n",
       "      <th>38</th>\n",
       "      <td>40</td>\n",
       "      <td>84</td>\n",
       "      <td>90</td>\n",
       "      <td>87</td>\n",
       "      <td>100</td>\n",
       "      <td>361</td>\n",
       "    </tr>\n",
       "    <tr>\n",
       "      <th>3</th>\n",
       "      <td>5</td>\n",
       "      <td>95</td>\n",
       "      <td>87</td>\n",
       "      <td>77</td>\n",
       "      <td>100</td>\n",
       "      <td>359</td>\n",
       "    </tr>\n",
       "    <tr>\n",
       "      <th>48</th>\n",
       "      <td>50</td>\n",
       "      <td>87</td>\n",
       "      <td>85</td>\n",
       "      <td>84</td>\n",
       "      <td>93</td>\n",
       "      <td>349</td>\n",
       "    </tr>\n",
       "  </tbody>\n",
       "</table>\n",
       "</div>"
      ],
      "text/plain": [
       "    user  kokugo  shakai  sugaku  rika  sum\n",
       "38    40      84      90      87   100  361\n",
       "3      5      95      87      77   100  359\n",
       "48    50      87      85      84    93  349"
      ]
     },
     "execution_count": 101,
     "metadata": {},
     "output_type": "execute_result"
    }
   ],
   "source": [
    "import pandas as pd\n",
    "df=pd.read_csv(\"user_score.csv\")\n",
    "def score_sum(df):\n",
    "    df['sum']=df[([\"kokugo\",\"rika\",\"sugaku\",\"shakai\"])].sum(axis=1)\n",
    "    return df\n",
    "df=score_sum(df)\n",
    "def score_top3(df):\n",
    "    df=df.sort_values([\"sum\"],ascending=False)\n",
    "    return df.head(3)\n",
    "score_top3(df)\n",
    "\n",
    "    "
   ]
  },
  {
   "cell_type": "code",
   "execution_count": 111,
   "id": "294642cc-4956-4ef2-b0fd-16640b9b3a27",
   "metadata": {},
   "outputs": [
    {
     "data": {
      "text/plain": [
       "[4, 19, 39, 35, 29, 24, 13, 2]"
      ]
     },
     "execution_count": 111,
     "metadata": {},
     "output_type": "execute_result"
    }
   ],
   "source": [
    "import pandas as pd\n",
    "df=pd.read_csv(\"user_score.csv\")\n",
    "def score_sum(df):\n",
    "    df['sum']=df[([\"kokugo\",\"rika\",\"sugaku\",\"shakai\"])].sum(axis=1)\n",
    "    return df\n",
    "df=score_sum(df)\n",
    "def score_hist(df):\n",
    "    results=[]\n",
    "    min = 0\n",
    "    max = 50\n",
    "    #for i in range(8):\n",
    "    results.append(len(df[(df[\"sum\"]>=0)& (df[\"sum\"]<=50)]))\n",
    "    results.append(len(df[(df[\"sum\"]>=51)& (df[\"sum\"]<=100)]))\n",
    "    results.append(len(df[(df[\"sum\"]>=101)& (df[\"sum\"]<=150)]))\n",
    "    results.append(len(df[(df[\"sum\"]>=151)& (df[\"sum\"]<=200)]))\n",
    "    results.append(len(df[(df[\"sum\"]>=201)& (df[\"sum\"]<=250)]))\n",
    "    results.append(len(df[(df[\"sum\"]>=251)& (df[\"sum\"]<=300)]))\n",
    "    results.append(len(df[(df[\"sum\"]>=301)& (df[\"sum\"]<=350)]))\n",
    "    results.append(len(df[(df[\"sum\"]>=351)& (df[\"sum\"]<=400)]))\n",
    "       # min = max+1\n",
    "       # max= max+50\n",
    "    return results\n",
    "score_hist(df)"
   ]
  },
  {
   "cell_type": "code",
   "execution_count": 127,
   "id": "ee368e02-87e5-4d30-b738-1e1e0cd2457e",
   "metadata": {},
   "outputs": [
    {
     "data": {
      "text/plain": [
       "{'sum': {'A': 359, 'B': 361, 'C': 343}}"
      ]
     },
     "execution_count": 127,
     "metadata": {},
     "output_type": "execute_result"
    }
   ],
   "source": [
    "import pandas as pd\n",
    "user_class = pd.read_csv('user_class.csv')\n",
    "user_score = pd.read_csv('user_score.csv')\n",
    "def score_sum(df):\n",
    "    df['sum']=df[([\"kokugo\",\"rika\",\"sugaku\",\"shakai\"])].sum(axis=1)\n",
    "    return df\n",
    "user_score=score_sum(user_score)\n",
    "def score_by_class(df1,df2):\n",
    "    new_df = pd.merge(df1, df2, on='user')\n",
    "    return new_df.groupby(\"class\")[[\"sum\"]].max()\n",
    "score_by_class(user_class,user_score).to_dict()"
   ]
  }
 ],
 "metadata": {
  "kernelspec": {
   "display_name": "Python 3 (ipykernel)",
   "language": "python",
   "name": "python3"
  },
  "language_info": {
   "codemirror_mode": {
    "name": "ipython",
    "version": 3
   },
   "file_extension": ".py",
   "mimetype": "text/x-python",
   "name": "python",
   "nbconvert_exporter": "python",
   "pygments_lexer": "ipython3",
   "version": "3.11.7"
  }
 },
 "nbformat": 4,
 "nbformat_minor": 5
}
