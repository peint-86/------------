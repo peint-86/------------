{
 "cells": [
  {
   "cell_type": "code",
   "execution_count": 19,
   "id": "87fef64c-34fd-45de-be90-404d720c1863",
   "metadata": {},
   "outputs": [
    {
     "name": "stdout",
     "output_type": "stream",
     "text": [
      "0      37.8\n",
      "1      33.6\n",
      "2      28.6\n",
      "3      72.8\n",
      "4      58.4\n",
      "       ... \n",
      "160    98.0\n",
      "161    36.4\n",
      "162    57.6\n",
      "163    68.8\n",
      "164    96.0\n",
      "Length: 165, dtype: float64\n"
     ]
    }
   ],
   "source": [
    "import pandas as pd\n",
    "score = pd.read_csv('user_score.csv')\n",
    "print(score.mean(axis=1))"
   ]
  },
  {
   "cell_type": "code",
   "execution_count": 13,
   "id": "b77d75b5-0b8c-481d-8e05-5e68c15a54ef",
   "metadata": {},
   "outputs": [
    {
     "ename": "AttributeError",
     "evalue": "module 'pandas' has no attribute 'mean'",
     "output_type": "error",
     "traceback": [
      "\u001b[1;31m---------------------------------------------------------------------------\u001b[0m",
      "\u001b[1;31mAttributeError\u001b[0m                            Traceback (most recent call last)",
      "Cell \u001b[1;32mIn[13], line 3\u001b[0m\n\u001b[0;32m      1\u001b[0m \u001b[38;5;28;01mimport\u001b[39;00m \u001b[38;5;21;01mpandas\u001b[39;00m \u001b[38;5;28;01mas\u001b[39;00m \u001b[38;5;21;01mpd\u001b[39;00m\n\u001b[0;32m      2\u001b[0m score \u001b[38;5;241m=\u001b[39m pd\u001b[38;5;241m.\u001b[39mread_csv(\u001b[38;5;124m'\u001b[39m\u001b[38;5;124muser_score.csv\u001b[39m\u001b[38;5;124m'\u001b[39m)\n\u001b[1;32m----> 3\u001b[0m pd\u001b[38;5;241m.\u001b[39mmean()\n",
      "\u001b[1;31mAttributeError\u001b[0m: module 'pandas' has no attribute 'mean'"
     ]
    }
   ],
   "source": [
    "print(score.head(5)"
   ]
  },
  {
   "cell_type": "markdown",
   "id": "8e73cd89-68c1-40d0-8cc2-0ed38be79e7c",
   "metadata": {},
   "source": [
    "import pandas\n",
    "score = pandas.read_csv('user_score.csv')\n",
    "score.describe(mean)"
   ]
  }
 ],
 "metadata": {
  "kernelspec": {
   "display_name": "Python 3 (ipykernel)",
   "language": "python",
   "name": "python3"
  },
  "language_info": {
   "codemirror_mode": {
    "name": "ipython",
    "version": 3
   },
   "file_extension": ".py",
   "mimetype": "text/x-python",
   "name": "python",
   "nbconvert_exporter": "python",
   "pygments_lexer": "ipython3",
   "version": "3.11.7"
  }
 },
 "nbformat": 4,
 "nbformat_minor": 5
}
