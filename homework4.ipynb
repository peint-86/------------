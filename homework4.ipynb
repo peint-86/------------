{
 "cells": [
  {
   "cell_type": "code",
   "execution_count": 24,
   "id": "6bcf4fa1-1cd0-44a6-91f6-d22978492df4",
   "metadata": {},
   "outputs": [
    {
     "data": {
      "text/plain": [
       "2013.0"
      ]
     },
     "execution_count": 24,
     "metadata": {},
     "output_type": "execute_result"
    }
   ],
   "source": [
    "import pandas as pd\n",
    "import numpy as np\n",
    "import matplotlib.pyplot as plt\n",
    "score = pd.read_csv('score_missing.csv')\n",
    "def fill_median(score):\n",
    "    return score.fillna(score.median())\n",
    "fill_median(score).sum().sum()"
   ]
  },
  {
   "cell_type": "code",
   "execution_count": 41,
   "id": "c010094c-439b-4a52-b2e1-2d3a449e40ee",
   "metadata": {},
   "outputs": [
    {
     "name": "stdout",
     "output_type": "stream",
     "text": [
      "[-100  200 1000]\n"
     ]
    }
   ],
   "source": [
    "def find_outliers(input_array):\n",
    "    q1,q3=np.percentile(input_array, [25, 75])\n",
    "    iqr=q3-q1\n",
    "    lower=q1-1.5*iqr\n",
    "    upper=q3+1.5*iqr\n",
    "    print(input_array[(input_array<lower) |(input_array>upper)])\n",
    "find_outliers(np.array([30,39,-100,29,95,70,67,200,29,1000,56,45,68]))"
   ]
  },
  {
   "cell_type": "code",
   "execution_count": 39,
   "id": "d45ca871-5e73-493b-8225-68102ece6e7a",
   "metadata": {},
   "outputs": [
    {
     "name": "stdout",
     "output_type": "stream",
     "text": [
      "166\n"
     ]
    },
    {
     "data": {
      "text/plain": [
       "155"
      ]
     },
     "execution_count": 39,
     "metadata": {},
     "output_type": "execute_result"
    }
   ],
   "source": [
    "import pandas as pd \n",
    "score=pd.read_csv(\"score_outlier.csv\")\n",
    "def drop_outliers(df):\n",
    "    columns = df.columns\n",
    "    for c in columns:\n",
    "        q1=df[c].describe()[\"25%\"]\n",
    "        q3=df[c].describe()[\"75%\"]\n",
    "        iqr=q3-q1\n",
    "        lower=q1-1.5*iqr\n",
    "        upper=q3+1.5*iqr\n",
    "        df=df[(df[c] > lower) & (df[c] < upper)]\n",
    "    return df\n",
    "len(drop_outliers(score).index)"
   ]
  },
  {
   "cell_type": "code",
   "execution_count": 65,
   "id": "6a39b8c6-19f1-46cc-b07c-033ca07d6d70",
   "metadata": {},
   "outputs": [
    {
     "data": {
      "image/png": "[encoded data removed]",
      "text/plain": [
       "<Figure size 640x480 with 1 Axes>"
      ]
     },
     "metadata": {},
     "output_type": "display_data"
    }
   ],
   "source": [
    "import matplotlib.pyplot as plt\n",
    "import numpy as np\n",
    "%matplotlib inline\n",
    "score = np.loadtxt(\"score_outlier.csv\", delimiter=\",\", skiprows=1)\n",
    "plt.boxplot(score, showmeans=True);"
   ]
  },
  {
   "cell_type": "code",
   "execution_count": 74,
   "id": "f605a854-47a2-4c11-9c6e-63111a785510",
   "metadata": {},
   "outputs": [
    {
     "data": {
      "text/plain": [
       "array([[-1.0257849 ,  0.15882818,  0.22288369,  0.61444594],\n",
       "       [-0.61237172, -0.86961243,  0.14011256,  0.28647801],\n",
       "       [-1.0717197 , -0.44888673, -0.93591204,  0.33333057],\n",
       "       [ 1.95997692,  2.2157094 ,  1.29890829,  2.34799071],\n",
       "       [ 0.81160699,  1.46775259,  1.34029385,  0.80185618],\n",
       "       [ 0.6738026 ,  0.62630118,  0.4298115 ,  0.52074082],\n",
       "       [-1.0717197 , -0.63587593, -0.06681524,  0.09906777],\n",
       "       [ 0.16851983,  0.67304848, -0.35651418,  0.42703569],\n",
       "       [-0.33676294, -0.86961243, -1.59808102, -0.27575273],\n",
       "       [ 0.7197374 ,  0.06533358, -0.68759867,  1.45779204],\n",
       "       [-0.10708895,  0.15882818,  1.42306497,  1.08297155],\n",
       "       [ 0.81160699,  1.00027959,  0.6367393 ,  0.98926643],\n",
       "       [-0.29082814, -0.12165563, -0.39789974,  0.28647801],\n",
       "       [-1.34732848, -0.72937053, -1.06006872, -0.65057322],\n",
       "       [ 1.13315057,  0.67304848,  0.51258262,  1.59834973],\n",
       "       [-1.71480686, -1.47732734, -0.9772976 , -0.97854114],\n",
       "       [-0.70424132, -0.77611783, -0.93591204, -0.83798346],\n",
       "       [ 0.12258503,  0.11208088,  1.62999278,  1.69205485],\n",
       "       [-2.40382882, -1.61756924, -1.88777995, -1.21280395],\n",
       "       [-0.79611091,  0.39256468, -0.89452648, -0.36945785],\n",
       "       [ 0.35225902,  1.8884783 ,  0.76089599,  1.03611899],\n",
       "       [ 0.81160699,  0.57955388,  1.21613717,  0.47388826],\n",
       "       [ 1.36282456,  2.0754675 ,  1.67137834,  1.78575997],\n",
       "       [-0.38269774, -0.82286513, -1.14283985, -1.72818213],\n",
       "       [ 0.07665023, -1.19684354, -0.52205642, -0.32260529],\n",
       "       [ 1.27095496,  1.09377419,  0.55396818,  1.08297155],\n",
       "       [-0.29082814,  0.34581738,  1.09198048,  0.28647801],\n",
       "       [-0.19895855,  1.09377419,  1.09198048,  1.55149717],\n",
       "       [-0.06115416,  0.06533358,  0.71951043,  0.47388826],\n",
       "       [-0.70424132, -1.00985434, -0.31512861,  0.0522152 ],\n",
       "       [-0.9798501 , -0.49563403, -0.72898423, -0.65057322],\n",
       "       [-0.79611091,  0.57955388, -0.23235749,  0.70815106],\n",
       "       [-0.10708895,  0.06533358,  0.18149813,  0.6612985 ],\n",
       "       [-0.88798051, -0.54238133,  0.80228155, -0.32260529],\n",
       "       [-1.16358929, -0.91635974, -1.18422541, -0.97854114],\n",
       "       [-0.75017612, -0.58912863,  0.67812486,  0.38018313],\n",
       "       [ 1.13315057,  1.42100529,  1.87830615,  1.03611899],\n",
       "       [ 0.39819381,  0.43931198,  1.05059492,  0.98926643],\n",
       "       [ 1.45469415,  2.3559513 ,  1.7127639 ,  2.34799071],\n",
       "       [ 1.17908537,  0.15882818,  0.55396818,  0.23962545],\n",
       "       [-2.08228524, -1.05660164, -1.14283985, -1.07224627],\n",
       "       [ 0.21445463, -0.35539213, -0.39789974,  0.23962545],\n",
       "       [ 0.35225902,  0.95353229,  1.62999278,  0.75500362],\n",
       "       [-1.62293726, -0.96310704, -0.85314091, -1.02539371],\n",
       "       [ 1.36282456,  2.1689621 ,  1.21613717,  1.59834973],\n",
       "       [-0.70424132, -0.16840293, -0.02542968, -0.41631041],\n",
       "       [-0.56643693, -0.58912863, -0.4392853 , -0.22890016],\n",
       "       [ 0.90347658,  1.56124719,  2.00246284,  2.16058046],\n",
       "       [ 0.99534618,  1.09377419,  1.38167941,  0.89556131],\n",
       "       [ 1.59249854,  2.1222148 ,  1.58860722,  2.02002278],\n",
       "       [ 0.6278678 , -0.26189753,  0.47119706,  0.00536264],\n",
       "       [ 1.73030293,  1.32751069,  0.76089599,  1.31723436],\n",
       "       [-0.42863254, -0.96310704, -0.68759867, -0.69742578],\n",
       "       [-1.30139368, -1.15009624, -1.84639439, -1.54077188],\n",
       "       [-0.52050213, -0.26189753, -0.72898423, -0.32260529],\n",
       "       [-0.47456733, -1.10334894, -0.68759867, -0.32260529],\n",
       "       [-0.88798051, -0.77611783,  0.098727  ,  0.14592033],\n",
       "       [-1.0717197 , -1.15009624, -1.06006872, -1.35336164],\n",
       "       [ 1.40875935,  2.0287202 ,  0.51258262,  0.98926643],\n",
       "       [ 0.94941138,  1.9352256 ,  2.00246284,  1.64520229],\n",
       "       [ 0.6278678 , -0.77611783,  1.34029385, -0.41631041],\n",
       "       [ 0.85754179, -0.07490833,  1.42306497,  0.52074082],\n",
       "       [ 0.44412861,  0.81329039,  1.87830615,  1.55149717],\n",
       "       [-0.24489335,  0.53280658,  0.9678238 ,  1.41093948],\n",
       "       [ 0.03071544, -0.30864483,  0.18149813, -0.55686809],\n",
       "       [ 0.39819381, -0.30864483,  0.18149813, -0.04148992],\n",
       "       [-1.43919807, -0.91635974, -0.27374305, -1.35336164],\n",
       "       [ 0.99534618,  1.23401609,  0.80228155,  1.31723436],\n",
       "       [ 0.90347658,  1.32751069, -0.14958637,  0.75500362],\n",
       "       [-0.10708895,  0.20557548,  0.05734144,  0.28647801],\n",
       "       [-2.17415483, -0.58912863, -0.68759867, -1.21280395],\n",
       "       [-0.93391531, -0.54238133, -1.30838209, -0.32260529],\n",
       "       [-1.34732848, -0.68262323, -0.81175535, -0.74427834],\n",
       "       [-0.84204571, -0.91635974, -0.93591204, -0.93168858],\n",
       "       [ 0.81160699,  2.2157094 ,  1.58860722,  1.78575997],\n",
       "       [-1.99041564, -0.68262323, -0.93591204, -0.7911309 ],\n",
       "       [ 0.39819381, -0.12165563, -0.27374305,  0.23962545],\n",
       "       [-0.84204571,  0.01858628, -0.39789974, -0.7911309 ],\n",
       "       [-0.65830652, -0.40213943, -0.52205642, -0.88483602],\n",
       "       [ 0.90347658,  0.06533358, -0.39789974, -0.27575273],\n",
       "       [-0.93391531, -0.54238133, -0.56344198, -0.41631041],\n",
       "       [-0.01521936, -0.49563403, -0.56344198, -0.65057322],\n",
       "       [ 2.00591172,  1.7014891 ,  1.83692059,  1.2703818 ],\n",
       "       [ 0.26038942, -0.40213943,  0.01595588, -0.1820476 ],\n",
       "       [-0.79611091, -0.77611783, -1.18422541, -0.55686809],\n",
       "       [-0.56643693, -0.07490833, -1.59808102, -1.35336164],\n",
       "       [-0.19895855, -0.77611783, -0.19097193, -0.46316297],\n",
       "       [-0.29082814,  0.62630118, -0.48067086, -0.93168858],\n",
       "       [-0.93391531, -0.86961243, -0.89452648, -1.02539371],\n",
       "       [-0.10708895, -0.54238133, -0.68759867, -0.88483602],\n",
       "       [ 1.08721577,  1.09377419,  1.1747516 ,  1.03611899],\n",
       "       [ 0.53599821,  0.01858628, -0.64621311, -0.04148992],\n",
       "       [ 0.44412861,  0.15882818, -1.30838209, -0.08834248],\n",
       "       [ 1.08721577,  0.11208088,  0.51258262,  0.0522152 ],\n",
       "       [ 1.31688976,  0.48605928,  0.6367393 ,  0.61444594],\n",
       "       [ 0.76567219,  0.43931198, -0.64621311, -0.74427834],\n",
       "       [ 1.68436814,  2.0287202 ,  1.13336604,  1.45779204],\n",
       "       [-1.16358929, -0.49563403, -0.48067086, -0.46316297],\n",
       "       [-0.61237172, -0.72937053, -0.81175535, -1.21280395],\n",
       "       [ 0.44412861, -0.02816102, -0.14958637, -0.46316297],\n",
       "       [ 0.94941138,  1.6079945 ,  1.1747516 ,  0.52074082],\n",
       "       [-0.15302375, -1.00985434, -0.77036979, -1.4002142 ],\n",
       "       [-0.79611091, -1.00985434, -0.72898423, -1.16595139],\n",
       "       [-0.75017612, -1.66431654, -1.26699653, -0.32260529],\n",
       "       [-1.66887206, -1.10334894, -0.85314091, -1.30650907],\n",
       "       [ 0.35225902,  0.39256468,  0.88505267, -0.97854114],\n",
       "       [ 0.99534618,  0.95353229,  0.47119706,  1.31723436],\n",
       "       [-1.39326328, -1.43058004, -1.63946658, -1.11909883],\n",
       "       [-0.24489335, -0.86961243, -0.81175535, -1.16595139],\n",
       "       [-0.42863254, -0.35539213,  1.1747516 ,  0.23962545],\n",
       "       [ 1.45469415,  0.53280658,  1.25752273,  1.59834973],\n",
       "       [ 0.581933  ,  0.15882818, -0.31512861,  0.94241387],\n",
       "       [-0.15302375, -0.63587593,  0.67812486,  0.00536264],\n",
       "       [-0.9798501 , -1.19684354, -1.55669546, -1.58762444],\n",
       "       [ 1.40875935,  0.67304848, -0.06681524, -0.22890016],\n",
       "       [ 1.59249854,  2.1689621 ,  1.29890829,  1.31723436],\n",
       "       [ 0.7197374 ,  0.90678499,  0.59535374,  0.61444594],\n",
       "       [ 0.7197374 ,  0.62630118, -0.19097193,  0.33333057],\n",
       "       [-1.11765449, -1.66431654, -0.35651418, -0.97854114],\n",
       "       [-0.47456733, -0.49563403, -0.52205642, -0.08834248],\n",
       "       [-0.47456733, -0.40213943,  0.05734144, -0.27575273],\n",
       "       [ 0.81160699,  0.81329039,  0.59535374,  0.52074082],\n",
       "       [ 0.26038942,  1.04702689, -0.23235749,  0.75500362],\n",
       "       [ 0.21445463,  0.01858628, -0.10820081, -1.02539371],\n",
       "       [-2.03635044, -1.29033814, -1.88777995, -1.4002142 ],\n",
       "       [-0.38269774, -0.35539213, -0.60482754, -1.02539371],\n",
       "       [ 0.581933  ,  0.15882818, -0.39789974, -0.04148992],\n",
       "       [ 1.31688976,  0.62630118,  1.34029385,  1.45779204],\n",
       "       [ 0.21445463,  0.62630118,  1.21613717,  0.38018313],\n",
       "       [ 0.53599821, -0.16840293, -1.06006872, -0.88483602],\n",
       "       [ 1.54656375,  1.04702689,  1.34029385,  0.19277289],\n",
       "       [-0.84204571, -0.58912863,  0.098727  ,  0.09906777],\n",
       "       [ 1.45469415,  0.81329039, -0.02542968,  0.6612985 ],\n",
       "       [-2.22008963, -1.43058004, -1.68085215, -1.82188725],\n",
       "       [-1.34732848, -1.43058004, -1.68085215, -1.11909883],\n",
       "       [ 0.6278678 ,  0.15882818,  0.34704037,  1.03611899],\n",
       "       [ 0.03071544, -0.77611783, -0.72898423, -0.93168858],\n",
       "       [ 0.81160699,  0.06533358, -0.06681524, -0.74427834],\n",
       "       [ 1.17908537,  0.62630118, -0.02542968,  0.19277289],\n",
       "       [-0.61237172, -0.96310704, -1.68085215, -0.83798346],\n",
       "       [ 0.99534618,  1.04702689, -0.06681524,  0.38018313],\n",
       "       [-0.88798051, -0.30864483, -0.56344198, -0.36945785],\n",
       "       [-0.42863254, -0.72937053, -0.68759867, -0.13519504],\n",
       "       [ 0.07665023, -0.86961243, -0.10820081, -1.02539371],\n",
       "       [-1.20952409, -1.15009624, -1.34976765, -1.44706676],\n",
       "       [ 0.26038942, -1.05660164, -0.48067086, -1.44706676],\n",
       "       [-1.0717197 , -1.15009624, -0.35651418, -1.44706676],\n",
       "       [ 0.94941138,  0.95353229,  0.55396818,  0.19277289],\n",
       "       [ 0.30632422, -0.68262323, -0.02542968, -0.08834248],\n",
       "       [ 0.26038942, -1.05660164, -0.60482754, -1.25965651],\n",
       "       [ 0.81160699,  0.76654309,  1.25752273,  0.56759338],\n",
       "       [-1.53106767, -1.29033814, -1.5153099 , -1.02539371],\n",
       "       [-1.0717197 , -0.86961243, -0.81175535, -0.93168858],\n",
       "       [-0.93391531, -1.52407464, -1.30838209, -1.49391932],\n",
       "       [ 1.13315057,  1.14052149,  1.7127639 ,  0.98926643],\n",
       "       [ 1.77623773,  1.37425799,  2.25077621,  1.55149717],\n",
       "       [-0.10708895, -0.40213943,  0.30565481, -0.27575273],\n",
       "       [ 0.49006341, -0.35539213, -0.10820081,  0.09906777],\n",
       "       [-0.47456733, -1.10334894, -0.77036979, -1.30650907],\n",
       "       [ 0.7197374 , -0.54238133,  0.59535374,  0.89556131],\n",
       "       [ 0.81160699, -0.77611783, -0.10820081,  0.00536264],\n",
       "       [ 1.36282456,  1.7949837 ,  1.42306497,  1.78575997],\n",
       "       [-2.40382882, -1.47732734, -1.80500883, -1.91559237],\n",
       "       [-0.33676294, -0.63587593, -0.68759867, -1.21280395],\n",
       "       [ 0.94941138, -0.40213943, -0.10820081, -0.83798346],\n",
       "       [ 0.35225902,  2.1222148 ,  1.79553503,  1.41093948]])"
      ]
     },
     "execution_count": 74,
     "metadata": {},
     "output_type": "execute_result"
    }
   ],
   "source": [
    "score = np.loadtxt(\"exam_score.csv\", delimiter=\",\", skiprows=1)\n",
    "def normalize_score(a):\n",
    "    return (score-np.mean(score,axis=0,keepdims=True))/np.std(score,axis=0,keepdims=True)\n",
    "normalize_score(score)"
   ]
  },
  {
   "cell_type": "code",
   "execution_count": 69,
   "id": "5bb7826a-8154-4d9c-943b-eaf875904095",
   "metadata": {},
   "outputs": [
    {
     "data": {
      "text/html": [
       "<div>\n",
       "<style scoped>\n",
       "    .dataframe tbody tr th:only-of-type {\n",
       "        vertical-align: middle;\n",
       "    }\n",
       "\n",
       "    .dataframe tbody tr th {\n",
       "        vertical-align: top;\n",
       "    }\n",
       "\n",
       "    .dataframe thead th {\n",
       "        text-align: right;\n",
       "    }\n",
       "</style>\n",
       "<table border=\"1\" class=\"dataframe\">\n",
       "  <thead>\n",
       "    <tr style=\"text-align: right;\">\n",
       "      <th></th>\n",
       "      <th>kokugo</th>\n",
       "      <th>shakai</th>\n",
       "      <th>sugaku</th>\n",
       "      <th>rika</th>\n",
       "    </tr>\n",
       "  </thead>\n",
       "  <tbody>\n",
       "    <tr>\n",
       "      <th>0</th>\n",
       "      <td>-1.025785</td>\n",
       "      <td>0.158828</td>\n",
       "      <td>0.222884</td>\n",
       "      <td>0.614446</td>\n",
       "    </tr>\n",
       "    <tr>\n",
       "      <th>1</th>\n",
       "      <td>-0.612372</td>\n",
       "      <td>-0.869612</td>\n",
       "      <td>0.140113</td>\n",
       "      <td>0.286478</td>\n",
       "    </tr>\n",
       "    <tr>\n",
       "      <th>2</th>\n",
       "      <td>-1.071720</td>\n",
       "      <td>-0.448887</td>\n",
       "      <td>-0.935912</td>\n",
       "      <td>0.333331</td>\n",
       "    </tr>\n",
       "    <tr>\n",
       "      <th>3</th>\n",
       "      <td>1.959977</td>\n",
       "      <td>2.215709</td>\n",
       "      <td>1.298908</td>\n",
       "      <td>2.347991</td>\n",
       "    </tr>\n",
       "    <tr>\n",
       "      <th>4</th>\n",
       "      <td>0.811607</td>\n",
       "      <td>1.467753</td>\n",
       "      <td>1.340294</td>\n",
       "      <td>0.801856</td>\n",
       "    </tr>\n",
       "    <tr>\n",
       "      <th>...</th>\n",
       "      <td>...</td>\n",
       "      <td>...</td>\n",
       "      <td>...</td>\n",
       "      <td>...</td>\n",
       "    </tr>\n",
       "    <tr>\n",
       "      <th>161</th>\n",
       "      <td>1.362825</td>\n",
       "      <td>1.794984</td>\n",
       "      <td>1.423065</td>\n",
       "      <td>1.785760</td>\n",
       "    </tr>\n",
       "    <tr>\n",
       "      <th>162</th>\n",
       "      <td>-2.403829</td>\n",
       "      <td>-1.477327</td>\n",
       "      <td>-1.805009</td>\n",
       "      <td>-1.915592</td>\n",
       "    </tr>\n",
       "    <tr>\n",
       "      <th>163</th>\n",
       "      <td>-0.336763</td>\n",
       "      <td>-0.635876</td>\n",
       "      <td>-0.687599</td>\n",
       "      <td>-1.212804</td>\n",
       "    </tr>\n",
       "    <tr>\n",
       "      <th>164</th>\n",
       "      <td>0.949411</td>\n",
       "      <td>-0.402139</td>\n",
       "      <td>-0.108201</td>\n",
       "      <td>-0.837983</td>\n",
       "    </tr>\n",
       "    <tr>\n",
       "      <th>165</th>\n",
       "      <td>0.352259</td>\n",
       "      <td>2.122215</td>\n",
       "      <td>1.795535</td>\n",
       "      <td>1.410939</td>\n",
       "    </tr>\n",
       "  </tbody>\n",
       "</table>\n",
       "<p>166 rows × 4 columns</p>\n",
       "</div>"
      ],
      "text/plain": [
       "       kokugo    shakai    sugaku      rika\n",
       "0   -1.025785  0.158828  0.222884  0.614446\n",
       "1   -0.612372 -0.869612  0.140113  0.286478\n",
       "2   -1.071720 -0.448887 -0.935912  0.333331\n",
       "3    1.959977  2.215709  1.298908  2.347991\n",
       "4    0.811607  1.467753  1.340294  0.801856\n",
       "..        ...       ...       ...       ...\n",
       "161  1.362825  1.794984  1.423065  1.785760\n",
       "162 -2.403829 -1.477327 -1.805009 -1.915592\n",
       "163 -0.336763 -0.635876 -0.687599 -1.212804\n",
       "164  0.949411 -0.402139 -0.108201 -0.837983\n",
       "165  0.352259  2.122215  1.795535  1.410939\n",
       "\n",
       "[166 rows x 4 columns]"
      ]
     },
     "execution_count": 69,
     "metadata": {},
     "output_type": "execute_result"
    }
   ],
   "source": [
    "score_df = pd.read_csv('exam_score.csv')\n",
    "((score_df - score_df.mean()) / score_df.std(ddof=0))"
   ]
  },
  {
   "cell_type": "code",
   "execution_count": 90,
   "id": "232f37ce-71aa-46a9-88b5-027908a50d0d",
   "metadata": {},
   "outputs": [
    {
     "data": {
      "image/png": "[encoded data removed]",
      "text/plain": [
       "<Figure size 640x480 with 1 Axes>"
      ]
     },
     "metadata": {},
     "output_type": "display_data"
    }
   ],
   "source": [
    "import matplotlib.pyplot as plt\n",
    "import numpy as np\n",
    "%matplotlib inline\n",
    "score = np.loadtxt(\"exam_score.csv\", delimiter=\",\", skiprows=1)\n",
    "plt.hist(score[:,2], bins=20);"
   ]
  },
  {
   "cell_type": "code",
   "execution_count": 80,
   "id": "cb408c0e-7410-4d8c-8d64-efa8dafbe8dd",
   "metadata": {},
   "outputs": [
    {
     "data": {
      "image/png": "[encoded data removed]",
      "text/plain": [
       "<Figure size 640x480 with 1 Axes>"
      ]
     },
     "metadata": {},
     "output_type": "display_data"
    }
   ],
   "source": [
    "mu, std = 0, 1\n",
    "nor = np.random.normal(mu, std,200)\n",
    "plt.hist(nor, bins=20);"
   ]
  },
  {
   "cell_type": "code",
   "execution_count": 3,
   "id": "484bbec5-c625-413e-aa50-5e5e4f679c4a",
   "metadata": {},
   "outputs": [
    {
     "data": {
      "text/plain": [
       "array([[1., 1.],\n",
       "       [1., 1.]])"
      ]
     },
     "execution_count": 3,
     "metadata": {},
     "output_type": "execute_result"
    }
   ],
   "source": [
    "import numpy as np\n",
    "import pandas as pd\n",
    "def correlation(x, y):\n",
    "    return np.corrcoef(x,y)\n",
    "correlation(np.array([-1,1]), np.array([ -1, 1]))"
   ]
  },
  {
   "cell_type": "code",
   "execution_count": 7,
   "id": "5aa047eb-67ab-437e-84f3-bc99ab6bfe13",
   "metadata": {},
   "outputs": [
    {
     "data": {
      "image/png": "[encoded data removed]",
      "text/plain": [
       "<Figure size 640x480 with 1 Axes>"
      ]
     },
     "metadata": {},
     "output_type": "display_data"
    }
   ],
   "source": [
    "import matplotlib.pyplot as plt\n",
    "import numpy as np\n",
    "%matplotlib inline\n",
    "score = np.loadtxt(\"exam_score.csv\", delimiter=\",\", skiprows=1)\n",
    "plt.plot(score[:,2],score[:,3], 'o');"
   ]
  },
  {
   "cell_type": "code",
   "execution_count": 8,
   "id": "7a07b1e8-58f6-4511-9411-407cfa721e27",
   "metadata": {},
   "outputs": [
    {
     "data": {
      "text/plain": [
       "array([[1.        , 0.78262164],\n",
       "       [0.78262164, 1.        ]])"
      ]
     },
     "execution_count": 8,
     "metadata": {},
     "output_type": "execute_result"
    }
   ],
   "source": [
    "score = np.loadtxt(\"exam_score.csv\", delimiter=\",\", skiprows=1)\n",
    "np.corrcoef(score[:,0], score[:,1])"
   ]
  },
  {
   "cell_type": "code",
   "execution_count": 9,
   "id": "baf15d77-6feb-446c-841e-4916792946f0",
   "metadata": {},
   "outputs": [
    {
     "data": {
      "text/html": [
       "<div>\n",
       "<style scoped>\n",
       "    .dataframe tbody tr th:only-of-type {\n",
       "        vertical-align: middle;\n",
       "    }\n",
       "\n",
       "    .dataframe tbody tr th {\n",
       "        vertical-align: top;\n",
       "    }\n",
       "\n",
       "    .dataframe thead th {\n",
       "        text-align: right;\n",
       "    }\n",
       "</style>\n",
       "<table border=\"1\" class=\"dataframe\">\n",
       "  <thead>\n",
       "    <tr style=\"text-align: right;\">\n",
       "      <th></th>\n",
       "      <th>kokugo</th>\n",
       "      <th>shakai</th>\n",
       "      <th>sugaku</th>\n",
       "      <th>rika</th>\n",
       "    </tr>\n",
       "  </thead>\n",
       "  <tbody>\n",
       "    <tr>\n",
       "      <th>kokugo</th>\n",
       "      <td>1.000000</td>\n",
       "      <td>0.782622</td>\n",
       "      <td>0.718526</td>\n",
       "      <td>0.717996</td>\n",
       "    </tr>\n",
       "    <tr>\n",
       "      <th>shakai</th>\n",
       "      <td>0.782622</td>\n",
       "      <td>1.000000</td>\n",
       "      <td>0.778242</td>\n",
       "      <td>0.834075</td>\n",
       "    </tr>\n",
       "    <tr>\n",
       "      <th>sugaku</th>\n",
       "      <td>0.718526</td>\n",
       "      <td>0.778242</td>\n",
       "      <td>1.000000</td>\n",
       "      <td>0.817947</td>\n",
       "    </tr>\n",
       "    <tr>\n",
       "      <th>rika</th>\n",
       "      <td>0.717996</td>\n",
       "      <td>0.834075</td>\n",
       "      <td>0.817947</td>\n",
       "      <td>1.000000</td>\n",
       "    </tr>\n",
       "  </tbody>\n",
       "</table>\n",
       "</div>"
      ],
      "text/plain": [
       "          kokugo    shakai    sugaku      rika\n",
       "kokugo  1.000000  0.782622  0.718526  0.717996\n",
       "shakai  0.782622  1.000000  0.778242  0.834075\n",
       "sugaku  0.718526  0.778242  1.000000  0.817947\n",
       "rika    0.717996  0.834075  0.817947  1.000000"
      ]
     },
     "execution_count": 9,
     "metadata": {},
     "output_type": "execute_result"
    }
   ],
   "source": [
    "score = pd.read_csv(\"exam_score.csv\", sep=\",\")\n",
    "score.corr(method='pearson')"
   ]
  },
  {
   "cell_type": "code",
   "execution_count": 10,
   "id": "cf74b916-7f0d-4174-8863-388ffd2d4623",
   "metadata": {},
   "outputs": [
    {
     "data": {
      "image/png": "[encoded data removed]",
      "text/plain": [
       "<Figure size 640x480 with 2 Axes>"
      ]
     },
     "metadata": {},
     "output_type": "display_data"
    }
   ],
   "source": [
    "plt.colorbar(plt.imshow(score.corr(method='pearson')));"
   ]
  },
  {
   "cell_type": "code",
   "execution_count": null,
   "id": "d5adf297-7f4a-4743-994e-dc667d8df5dd",
   "metadata": {},
   "outputs": [],
   "source": []
  },
  {
   "cell_type": "code",
   "execution_count": null,
   "id": "04280210-6026-4ade-8853-072c09dabd41",
   "metadata": {},
   "outputs": [],
   "source": []
  }
 ],
 "metadata": {
  "kernelspec": {
   "display_name": "Python 3 (ipykernel)",
   "language": "python",
   "name": "python3"
  },
  "language_info": {
   "codemirror_mode": {
    "name": "ipython",
    "version": 3
   },
   "file_extension": ".py",
   "mimetype": "text/x-python",
   "name": "python",
   "nbconvert_exporter": "python",
   "pygments_lexer": "ipython3",
   "version": "3.11.7"
  }
 },
 "nbformat": 4,
 "nbformat_minor": 5
}
